{
 "cells": [
  {
   "cell_type": "code",
   "execution_count": 1,
   "metadata": {},
   "outputs": [],
   "source": [
    "import h5py\n",
    "from PIL import Image\n",
    "from code.dataset import DiganesDataset\n",
    "from torch.utils.data import random_split\n",
    "import torch\n",
    "import pandas as pd\n",
    "import os\n",
    "import numpy as np"
   ]
  },
  {
   "cell_type": "code",
   "execution_count": 2,
   "metadata": {},
   "outputs": [],
   "source": [
    "label_file = '/Users/atad/Desktop/DIGANES/diganes/diganens.csv'\n",
    "pic_dir = '/Users/atad/Desktop/DIGANES/bw_pics'\n",
    "dataset = DiganesDataset(label_file, pic_dir, category='drawing', min_label_count=50)"
   ]
  },
  {
   "cell_type": "code",
   "execution_count": 3,
   "metadata": {},
   "outputs": [],
   "source": [
    "N = len(dataset)\n",
    "train_size = int(N * 0.8)\n",
    "val_size = int(N * 0.1)\n",
    "test_size = N - (train_size + val_size)\n",
    "\n",
    "torch.manual_seed(32)\n",
    "train_set, val_set, test_set = random_split(dataset, [train_size, val_size, test_size])"
   ]
  },
  {
   "cell_type": "code",
   "execution_count": 4,
   "metadata": {},
   "outputs": [],
   "source": [
    "permutations = pd.DataFrame([x for x in os.listdir(pic_dir)if\n",
    "                                  (x.startswith('per') and x.endswith(\".jpg\"))],columns=['Filename'])\n",
    "\n",
    "size_per = 0\n",
    "for idx in range(len(train_set)):\n",
    "    _, img_name = os.path.split(train_set[idx][0].filename)\n",
    "    per_match = permutations[permutations['Filename'].str.contains(img_name)]\n",
    "    size_per += len(per_match)"
   ]
  },
  {
   "cell_type": "code",
   "execution_count": 5,
   "metadata": {},
   "outputs": [
    {
     "data": {
      "text/plain": [
       "<HDF5 dataset \"Y\": shape (148, 1, 29), type \"|u1\">"
      ]
     },
     "execution_count": 5,
     "metadata": {},
     "output_type": "execute_result"
    }
   ],
   "source": [
    "out_train = h5py.File('diganes_train_dataset.h5', \"w\")\n",
    "out_train.create_dataset(\"X\",(train_size + size_per, 224, 224, 3),dtype='u1')\n",
    "out_train.create_dataset(\"Y\",(train_size + size_per, 1, len(dataset.classes)),dtype='u1') \n",
    "\n",
    "out_val = h5py.File('diganes_val_dataset.h5', \"w\")\n",
    "out_val.create_dataset(\"X\",(val_size, 224, 224, 3),dtype='u1')\n",
    "out_val.create_dataset(\"Y\",(val_size, 1, len(dataset.classes)),dtype='u1')   \n",
    "\n",
    "out_test = h5py.File('diganes_test_dataset.h5', \"w\")\n",
    "out_test.create_dataset(\"X\",(test_size, 224, 224, 3),dtype='u1')\n",
    "out_test.create_dataset(\"Y\",(test_size,1 ,len(dataset.classes)),dtype='u1')   "
   ]
  },
  {
   "cell_type": "code",
   "execution_count": 6,
   "metadata": {},
   "outputs": [],
   "source": [
    "j = 0\n",
    "for i in range(len(train_set)):\n",
    "    image, labels = train_set[i]\n",
    "    out_train[\"X\"][j] = np.asarray(image.convert('RGB'))\n",
    "    out_train[\"Y\"][j] = np.asarray(labels)\n",
    "    j += 1\n",
    "    \n",
    "    _, img_name = os.path.split(image.filename)\n",
    "    per_match = permutations[permutations['Filename'].str.contains(img_name)]\n",
    "    \n",
    "    for t in range(len(per_match)):\n",
    "        chosen_per = per_match.iloc[t, 0]\n",
    "        per_image = Image.open(os.path.join(pic_dir, chosen_per))\n",
    "        out_train[\"X\"][j] = np.asarray(per_image.convert('RGB'))\n",
    "        out_train[\"Y\"][j] = np.asarray(labels)\n",
    "        j+=1"
   ]
  },
  {
   "cell_type": "code",
   "execution_count": 7,
   "metadata": {},
   "outputs": [],
   "source": [
    " for i in range(len(val_set)):\n",
    "    image, labels = val_set[i]\n",
    "    out_val[\"X\"][i] = np.asarray(image.convert('RGB'))\n",
    "    out_val[\"Y\"][i] = np.asarray(labels)"
   ]
  },
  {
   "cell_type": "code",
   "execution_count": 8,
   "metadata": {},
   "outputs": [],
   "source": [
    "for i in range(len(test_set)):\n",
    "    image, labels = test_set[i]\n",
    "    out_test[\"X\"][i] = np.asarray(image.convert('RGB'))\n",
    "    out_test[\"Y\"][i] = np.asarray(labels)"
   ]
  },
  {
   "cell_type": "code",
   "execution_count": 9,
   "metadata": {},
   "outputs": [],
   "source": [
    "out_train.close()\n",
    "out_val.close()\n",
    "out_test.close()"
   ]
  },
  {
   "cell_type": "code",
   "execution_count": null,
   "metadata": {},
   "outputs": [],
   "source": []
  }
 ],
 "metadata": {
  "kernelspec": {
   "display_name": "Python 3",
   "language": "python",
   "name": "python3"
  },
  "language_info": {
   "codemirror_mode": {
    "name": "ipython",
    "version": 3
   },
   "file_extension": ".py",
   "mimetype": "text/x-python",
   "name": "python",
   "nbconvert_exporter": "python",
   "pygments_lexer": "ipython3",
   "version": "3.7.4"
  }
 },
 "nbformat": 4,
 "nbformat_minor": 4
}
