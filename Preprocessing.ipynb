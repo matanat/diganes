{
 "cells": [
  {
   "cell_type": "code",
   "execution_count": 5,
   "metadata": {},
   "outputs": [],
   "source": [
    "import pandas as pd\n",
    "import numpy as np\n",
    "import matplotlib.pyplot as plt\n",
    "from skimage import io\n",
    "import os"
   ]
  },
  {
   "cell_type": "markdown",
   "metadata": {},
   "source": [
    "Label Preprocessing"
   ]
  },
  {
   "cell_type": "code",
   "execution_count": 6,
   "metadata": {},
   "outputs": [],
   "source": [
    "picel = pd.read_excel('/Users/atad/Desktop/DIGANES/tables/Picel.xlsx', index_col=0)\n",
    "illus = pd.read_excel('/Users/atad/Desktop/DIGANES/tables/Illustration.xlsx', index_col=2)"
   ]
  },
  {
   "cell_type": "code",
   "execution_count": 71,
   "metadata": {},
   "outputs": [],
   "source": [
    "picel.replace(['undefined', 'unpreserved'], np.NaN, inplace=True)\n",
    "\n",
    "#take only labels with enough samples\n",
    "label_counts = picel.identification.value_counts()\n",
    "labels = label_counts.loc[label_counts.values > 80].index\n",
    "filtered = picel[picel.identification.isin(labels)]\n",
    "\n",
    "#create onehot encoding of labels per image\n",
    "dummy = pd.get_dummies(filtered.identification.astype('category'))\n",
    "onehot = pd.concat([filtered[['imageID']], dummy], axis=1, verify_integrity=True)\n",
    "labels = onehot.groupby(['imageID']).max()\n",
    "\n",
    "#add picture filename column\n",
    "dataset = illus[illus.index.isin(labels.index)][['Quelle']].join(labels)\n",
    "dataset.to_csv('diganens.csv')"
   ]
  },
  {
   "cell_type": "code",
   "execution_count": null,
   "metadata": {},
   "outputs": [],
   "source": []
  }
 ],
 "metadata": {
  "kernelspec": {
   "display_name": "Python 3",
   "language": "python",
   "name": "python3"
  },
  "language_info": {
   "codemirror_mode": {
    "name": "ipython",
    "version": 3
   },
   "file_extension": ".py",
   "mimetype": "text/x-python",
   "name": "python",
   "nbconvert_exporter": "python",
   "pygments_lexer": "ipython3",
   "version": "3.7.4"
  }
 },
 "nbformat": 4,
 "nbformat_minor": 4
}
