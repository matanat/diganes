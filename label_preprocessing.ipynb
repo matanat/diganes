{
 "cells": [
  {
   "cell_type": "code",
   "execution_count": 2,
   "metadata": {},
   "outputs": [],
   "source": [
    "import pandas as pd\n",
    "import numpy as np\n",
    "import matplotlib.pyplot as plt\n",
    "from skimage import io\n",
    "import os"
   ]
  },
  {
   "cell_type": "markdown",
   "metadata": {},
   "source": [
    "Label Preprocessing"
   ]
  },
  {
   "cell_type": "code",
   "execution_count": 3,
   "metadata": {},
   "outputs": [],
   "source": [
    "picel = pd.read_excel('/Users/atad/Desktop/DIGANES/tables/Picel.xlsx', index_col=0)\n",
    "illus = pd.read_excel('/Users/atad/Desktop/DIGANES/tables/Illustration.xlsx', index_col=2)"
   ]
  },
  {
   "cell_type": "code",
   "execution_count": 4,
   "metadata": {},
   "outputs": [],
   "source": [
    "picel.replace(['undefined', 'unpreserved'], np.NaN, inplace=True)\n",
    "\n",
    "#take only labels with enough samples\n",
    "label_counts = picel.identification.value_counts()\n",
    "labels = label_counts.loc[label_counts.values > 0].index\n",
    "filtered = picel[picel.identification.isin(labels)]\n",
    "\n",
    "#create onehot encoding of labels per image\n",
    "dummy = pd.get_dummies(filtered.identification.astype('category'))\n",
    "onehot = pd.concat([filtered[['imageID']], dummy], axis=1, verify_integrity=True)\n",
    "labels = onehot.groupby(['imageID']).max()\n",
    "\n",
    "#add img_name column\n",
    "dataset = illus[illus.index.isin(labels.index)][['Quelle', 'category']].join(labels)\n",
    "dataset = dataset.rename(columns={\"Quelle\": \"img_name\"})\n",
    "dataset['img_name'] = dataset['img_name'].astype(str) + '.jpg'\n",
    "\n",
    "#remove samples for which we're missing images\n",
    "missing_images = []\n",
    "missing_indices = []\n",
    "root_dir = '/Users/atad/Desktop/DIGANES/pics'\n",
    "for index, row in dataset.iterrows():\n",
    "    filname = os.path.join(root_dir, row[\"img_name\"])\n",
    "    if os.path.isfile(filname) == False:\n",
    "        missing_images.append(filname)\n",
    "        missing_indices.append(index)\n",
    "\n",
    "dataset = dataset.drop(missing_indices, axis='index')\n",
    "dataset.to_csv('diganens.csv')"
   ]
  },
  {
   "cell_type": "code",
   "execution_count": null,
   "metadata": {},
   "outputs": [],
   "source": []
  }
 ],
 "metadata": {
  "kernelspec": {
   "display_name": "Python 3",
   "language": "python",
   "name": "python3"
  },
  "language_info": {
   "codemirror_mode": {
    "name": "ipython",
    "version": 3
   },
   "file_extension": ".py",
   "mimetype": "text/x-python",
   "name": "python",
   "nbconvert_exporter": "python",
   "pygments_lexer": "ipython3",
   "version": "3.7.4"
  }
 },
 "nbformat": 4,
 "nbformat_minor": 4
}
